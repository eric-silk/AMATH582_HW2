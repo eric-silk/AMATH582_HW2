{
 "cells": [
  {
   "cell_type": "code",
   "execution_count": null,
   "metadata": {},
   "outputs": [],
   "source": [
    "import numpy as np\n",
    "import matplotlib.pyplot as plt\n",
    "from scipy.io import loadmat\n",
    "import scipy.signal as sig\n",
    "import simpleaudio\n",
    "\n",
    "# Configuration constants\n",
    "PLAY_SOUND = False\n",
    "\n",
    "handel = loadmat(\"handel.mat\")\n",
    "fs = handel[\"Fs\"][0][0]\n",
    "handel = handel[\"y\"]\n",
    "# Convert to a flat vector\n",
    "handel = handel.T[0]\n",
    "plt.figure()\n",
    "plt.plot(handel)\n",
    "plt.xlabel(\"Sample number\")\n",
    "plt.ylabel(\"Amplitude\")\n",
    "plt.show()\n"
   ]
  },
  {
   "cell_type": "code",
   "execution_count": null,
   "metadata": {},
   "outputs": [],
   "source": [
    "# simpleaudio is simple, but this means limited support for what it deems \"weird\" data\n",
    "# The data size returned by loadmat and the sample rate are both \"weird\"\n",
    "# Rather than determine a good method for interpolation/resampling,\n",
    "# We're just going to lie and say 8192Hz ~= 8000Hz, a supported sample rate\n",
    "# Just consider it Vaporwave or something (Baroquewave?)\n",
    "if PLAY_SOUND:\n",
    "    simpleaudio.play_buffer(handel.astype(np.float32), 1, 4, 8000)"
   ]
  },
  {
   "cell_type": "code",
   "execution_count": null,
   "metadata": {},
   "outputs": [],
   "source": [
    "def plot_spectrogram(data, fs, window=None, nperseg=None, noverlap=None):\n",
    "    if window is None:\n",
    "        # Match the default arg to spectrogram. Weird they don't do None and then set it\n",
    "        # internally like they should pythonically\n",
    "        window = (\"tukey\", 0.25)\n",
    "    f, t, Sxx = sig.spectrogram(data, fs=fs, window=window, nperseg=nperseg, noverlap=noverlap)\n",
    "    plt.figure()\n",
    "    plt.pcolormesh(t, f, Sxx)\n",
    "    plt.ylabel(\"Frequency (Hz)\")\n",
    "    plt.xlabel(\"Time (Seconds)\")\n",
    "    plt.show()"
   ]
  },
  {
   "cell_type": "code",
   "execution_count": null,
   "metadata": {},
   "outputs": [],
   "source": [
    "plot_spectrogram(handel, fs, None, None, None)"
   ]
  },
  {
   "cell_type": "code",
   "execution_count": null,
   "metadata": {},
   "outputs": [],
   "source": [
    "help(sig.get_window)"
   ]
  },
  {
   "cell_type": "code",
   "execution_count": null,
   "metadata": {},
   "outputs": [],
   "source": []
  }
 ],
 "metadata": {
  "kernelspec": {
   "display_name": "Python 3",
   "language": "python",
   "name": "python3"
  },
  "language_info": {
   "codemirror_mode": {
    "name": "ipython",
    "version": 3
   },
   "file_extension": ".py",
   "mimetype": "text/x-python",
   "name": "python",
   "nbconvert_exporter": "python",
   "pygments_lexer": "ipython3",
   "version": "3.7.1"
  }
 },
 "nbformat": 4,
 "nbformat_minor": 2
}
