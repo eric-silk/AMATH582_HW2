{
 "cells": [
  {
   "cell_type": "code",
   "execution_count": null,
   "metadata": {},
   "outputs": [],
   "source": [
    "import warnings\n",
    "import numpy as np\n",
    "import matplotlib.pyplot as plt\n",
    "from scipy.io import loadmat\n",
    "import scipy.signal as sig\n",
    "import simpleaudio\n",
    "\n",
    "# Configuration constants\n",
    "PLAY_SOUND = False\n",
    "\n",
    "handel = loadmat(\"handel.mat\")\n",
    "fs = handel[\"Fs\"][0][0]\n",
    "handel = handel[\"y\"]\n",
    "print(type(handel[0][0]))\n",
    "print(handel.shape)\n",
    "# Convert to a flat vector\n",
    "print(handel.T.shape)\n",
    "handel = handel.T[0]\n",
    "plt.figure()\n",
    "plt.plot(handel)\n",
    "plt.xlabel(\"Sample number\")\n",
    "plt.ylabel(\"Amplitude\")\n",
    "plt.show()\n"
   ]
  },
  {
   "cell_type": "code",
   "execution_count": null,
   "metadata": {},
   "outputs": [],
   "source": [
    "# simpleaudio is simple, but this means limited support for what it deems \"weird\" data\n",
    "# The data size returned by loadmat and the sample rate are both \"weird\"\n",
    "# Rather than determine a good method for interpolation/resampling,\n",
    "# We're just going to lie and say 8192Hz ~= 8000Hz, a supported sample rate\n",
    "# Just consider it Vaporwave or something (Baroquewave?)\n",
    "if PLAY_SOUND:\n",
    "    simpleaudio.play_buffer(handel.astype(np.float32), 1, 4, 8000)"
   ]
  },
  {
   "cell_type": "code",
   "execution_count": null,
   "metadata": {},
   "outputs": [],
   "source": [
    "def get_windows(data, width, overlap, copy=True):\n",
    "    \"\"\"\n",
    "    See here: https://stackoverflow.com/a/45730836\n",
    "    \"\"\"\n",
    "    sh = (data.size - width + 1, width)\n",
    "    st = data.strides * 2\n",
    "    view = np.lib.stride_tricks.as_strided(data.T, strides=st, shape=sh)[0::overlap]\n",
    "    print(\"View shape: {}\".format(view.shape))\n",
    "    if copy:\n",
    "        return view.copy()\n",
    "    else:\n",
    "        return view\n",
    "    \n",
    "def apply_window_function(windowed_data, windowing_function):\n",
    "    # Not pythonic to LBYL but this could be slow so thbbbtttt\n",
    "    if windowing_function.ndim != 1:\n",
    "        raise ValueError(\"Windowing function must be 1 dimensional!\")\n",
    "    if windowed_data.ndim != 2:\n",
    "        raise ValueError(\"Windowed data must be 2D ndarray!\")\n",
    "    if windowed_data.shape[1] != windowing_function.shape[0]:\n",
    "        print(\"windowed_data.shape: {}, windowing_function.shape: {}\".format(windowed_data.shape, windowing_function.shape))\n",
    "        raise ValueError(\"Windowing function length != data window length!\")\n",
    "\n",
    "    return windowed_data*windowing_function\n",
    "\n",
    "\n",
    "def spectrogram(data, fs=1.0, window=None, nperseg=None, noverlap=None):\n",
    "    \"\"\"\n",
    "    Return the calculated spectrogram in a fashion similar to SciPy's API.\n",
    "    Assumes input data is real, therefore the FFT is symettric, thus returning only\n",
    "    the frequencies >=0. \n",
    "    \"\"\"\n",
    "    if data.ndim != 1:\n",
    "        raise ValueError(\"We only support 1D data.\")\n",
    "    if nperseg is None:\n",
    "        nperseg = 256\n",
    "    if nperseg > data.size:\n",
    "        warnings.warn(\"nperseg larger than data, reducing...\")\n",
    "        nperseg = data.size\n",
    "    if noverlap is None:\n",
    "        noverlap = np.int(np.floor(nperseg / 8))\n",
    "        \n",
    "    if window is None:\n",
    "        # Shannon/Boxcar/Square/Dirichlet Window (or 'no' window)\n",
    "        window = np.ones(nperseg)\n",
    "        \n",
    "    if window.ndim != 1:\n",
    "        raise ValueError(\"Window must be 1D!\")\n",
    "    if window.size != nperseg:\n",
    "        print(\"nperseg: {}, window.size: {}\".format(nperseg, window.size))\n",
    "        raise ValueError(\"Windowing function must be the size of the window!\")\n",
    "    \n",
    "    chunked_data = get_windows(data, nperseg, noverlap)\n",
    "    windowed_data = apply_window_function(chunked_data, window)\n",
    "    \n",
    "    t = np.arange(nperseg/2, data.shape[-1] - nperseg/2+1, nperseg-noverlap)/float(fs)\n",
    "    freqs = (np.arange(1, nperseg + 1, dtype=int) // 2) / float(nperseg*(1.0/fs))\n",
    "    # the above produces 2 of every frequency but the 0 and max frequency, so take the uniques\n",
    "    # Slicing proved annoying to get consistent. probably not the most performant but WHATEVAH\n",
    "    freqs = np.unique(freqs)\n",
    "    Sxx = np.apply_along_axis(np.fft.rfft, 1, windowed_data).T\n",
    "    \n",
    "    return freqs, t, Sxx\n",
    "    \n",
    "\n",
    "def plot_spectrogram(data, fs, window=None, nperseg=None, noverlap=None, native=False):\n",
    "    if native:\n",
    "        # Just for validation purposes\n",
    "        f, t, Sxx = sig.spectrogram(data, fs=fs, window=window, nperseg=nperseg, noverlap=noverlap)\n",
    "    else:\n",
    "        f, t, Sxx = spectrogram(data, fs=fs, window=window, nperseg=nperseg, noverlap=noverlap)\n",
    "    plt.figure()\n",
    "    plt.pcolormesh(t, f, Sxx)\n",
    "    plt.ylabel(\"Frequency (Hz)\")\n",
    "    plt.xlabel(\"Time (Seconds)\")\n",
    "    plt.show()"
   ]
  },
  {
   "cell_type": "code",
   "execution_count": null,
   "metadata": {},
   "outputs": [],
   "source": [
    "# generate a shannon window for consistency in validation\n",
    "nperseg = 256\n",
    "noverlap = nperseg // 8\n",
    "shannon = np.ones(nperseg)\n",
    "m_f, m_t, m_Sxx = spectrogram(handel, 8192, window=shannon, nperseg=nperseg, noverlap=noverlap)\n",
    "f, t, Sxx = sig.spectrogram(handel, 8192, window=shannon, nperseg=nperseg, noverlap=noverlap)"
   ]
  },
  {
   "cell_type": "code",
   "execution_count": null,
   "metadata": {},
   "outputs": [],
   "source": [
    "Sxx.shape"
   ]
  },
  {
   "cell_type": "code",
   "execution_count": null,
   "metadata": {},
   "outputs": [],
   "source": [
    "m_Sxx.shape"
   ]
  },
  {
   "cell_type": "code",
   "execution_count": null,
   "metadata": {},
   "outputs": [],
   "source": []
  }
 ],
 "metadata": {
  "kernelspec": {
   "display_name": "Python 3",
   "language": "python",
   "name": "python3"
  },
  "language_info": {
   "codemirror_mode": {
    "name": "ipython",
    "version": 3
   },
   "file_extension": ".py",
   "mimetype": "text/x-python",
   "name": "python",
   "nbconvert_exporter": "python",
   "pygments_lexer": "ipython3",
   "version": "3.7.1"
  }
 },
 "nbformat": 4,
 "nbformat_minor": 2
}
