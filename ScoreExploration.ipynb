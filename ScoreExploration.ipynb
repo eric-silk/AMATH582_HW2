{
 "cells": [
  {
   "cell_type": "code",
   "execution_count": null,
   "metadata": {},
   "outputs": [],
   "source": [
    "%matplotlib inline\n",
    "import numpy as np\n",
    "import scipy.signal as sig\n",
    "from scipy.io import wavfile\n",
    "import matplotlib.pyplot as plt\n",
    "import simpleaudio\n",
    "\n",
    "import fft_funcs"
   ]
  },
  {
   "cell_type": "code",
   "execution_count": null,
   "metadata": {},
   "outputs": [],
   "source": [
    "piano = wavfile.read(\"music1.wav\")\n",
    "recorder = wavfile.read(\"music2.wav\")\n",
    "print(\"Sample rates (Hz):\")\n",
    "print(\"Piano: {}\".format(piano[0]))\n",
    "print(\"Recorder: {}\".format(piano[0], recorder[0]))\n",
    "Fs = piano[0]\n",
    "piano = piano[1]\n",
    "recorder = recorder[1]\n",
    "\n",
    "t_piano_max = piano.size*(1.0/Fs)\n",
    "t_recorder_max = recorder.size*(1.0/Fs)\n",
    "t_piano = np.linspace(0, t_piano_max, piano.size)\n",
    "t_recorder = np.linspace(0, t_recorder_max, recorder.size)"
   ]
  },
  {
   "cell_type": "code",
   "execution_count": null,
   "metadata": {},
   "outputs": [],
   "source": [
    "plt.figure()\n",
    "plt.title(\"Kutz's Fifth Concerto, Piano\")\n",
    "plt.xlabel(\"Time (s)\")\n",
    "plt.ylabel(\"Amplitude\")\n",
    "plt.plot(t_piano, piano)\n",
    "\n",
    "plt.figure()\n",
    "plt.title(\"Kutz's Fifth Concerto, Recorder\")\n",
    "plt.xlabel(\"Time (s)\")\n",
    "plt.ylabel(\"Amplitude\")\n",
    "plt.plot(t_recorder, recorder)\n",
    "\n",
    "plt.show()"
   ]
  },
  {
   "cell_type": "code",
   "execution_count": null,
   "metadata": {},
   "outputs": [],
   "source": [
    "# This will be coarsely tuned, but we'll start with a totally non-rigorous bet of 4096 samples\n",
    "# (or 4096 samples * (1 second/44100 samples) ~= 9ms)\n",
    "nperseg = 4096\n",
    "noverlap = nperseg // 8\n",
    "# Barring a good spec for considerations like selectivity,\n",
    "# side-lobe height, or side lob attenuation, I'm going to pick\n",
    "# the Hann(ing) Window for my spectrogram\n",
    "window = np.hanning(nperseg)\n",
    "plt.figure()\n",
    "plt.plot(window)\n",
    "\n",
    "title = \"Piano Spectrogram\"\n",
    "fft_funcs.plot_spectrogram(piano, fs=Fs, window=window, normed=\"log\",\n",
    "                           nperseg=nperseg, noverlap=noverlap, title=title)\n",
    "title = \"Recorder Spectrogram\"\n",
    "fft_funcs.plot_spectrogram(recorder, fs=Fs, window=window, normed=\"log\",\n",
    "                           nperseg=nperseg, noverlap=noverlap,\n",
    "                           title=title)"
   ]
  },
  {
   "cell_type": "code",
   "execution_count": null,
   "metadata": {},
   "outputs": [],
   "source": [
    "# Let's create and apply a filter\n",
    "# Butterworth: simple, flat passband, bessel is preferred for group delay\n",
    "# but we're using filtfilt to get linear phase.\n",
    "# 4th order just cuz\n",
    "# lowpass to remove overtones. highpass to clean up subharmonic crud\n",
    "b,a = sig.butter(4, [200, 400], btype=\"band\", analog=False, fs=Fs)\n",
    "piano_filtered = sig.filtfilt(b, a, piano)\n",
    "b,a = sig.butter(4, [750, 1250], btype=\"band\", analog=False, fs=Fs)\n",
    "recorder_filtered = sig.filtfilt(b, a, recorder)"
   ]
  },
  {
   "cell_type": "code",
   "execution_count": null,
   "metadata": {},
   "outputs": [],
   "source": [
    "plt.figure()\n",
    "plt.title(\"Kutz's Fifth Concerto, Piano, filtered\")\n",
    "plt.xlabel(\"Time (s)\")\n",
    "plt.ylabel(\"Amplitude\")\n",
    "plt.plot(t_piano, piano_filtered)\n",
    "\n",
    "plt.figure()\n",
    "plt.title(\"Kutz's Fifth Concerto, Recorder, filtered\")\n",
    "plt.xlabel(\"Time (s)\")\n",
    "plt.ylabel(\"Amplitude\")\n",
    "plt.plot(t_recorder, recorder_filtered)\n",
    "\n",
    "plt.show()"
   ]
  },
  {
   "cell_type": "code",
   "execution_count": null,
   "metadata": {},
   "outputs": [],
   "source": [
    "title = \"Piano \\\"Score\\\", filtered\"\n",
    "fft_funcs.plot_spectrogram(piano_filtered, fs=Fs, window=window, normed=\"norm\", maxfreq=750,\n",
    "                           nperseg=nperseg, noverlap=noverlap, title=title)\n",
    "title = \"Recorder \\\"Score\\\", filtered\"\n",
    "fft_funcs.plot_spectrogram(recorder_filtered, fs=Fs, window=window, normed=\"norm\", maxfreq=1500,\n",
    "                           nperseg=nperseg, noverlap=noverlap, title=title)"
   ]
  },
  {
   "cell_type": "code",
   "execution_count": null,
   "metadata": {},
   "outputs": [],
   "source": [
    "# Get a vector of the maximum frequency bin for each slice\n",
    "freqs_p, t_p, Sxx_p = fft_funcs.spectrogram(piano_filtered, fs=Fs, window=window, nperseg=nperseg, noverlap=noverlap)\n",
    "freqs_r, t_r, Sxx_r = fft_funcs.spectrogram(recorder_filtered, fs=Fs, window=window, nperseg=nperseg, noverlap=noverlap)"
   ]
  },
  {
   "cell_type": "code",
   "execution_count": null,
   "metadata": {},
   "outputs": [],
   "source": [
    "print(Sxx_p.shape)\n",
    "plt.figure()\n",
    "plt.plot(freqs_p, Sxx_p.T[0])\n",
    "print(Sxx_r.T[0].argmax())\n",
    "print(freqs_r[Sxx_r.T[0].argmax()])"
   ]
  },
  {
   "cell_type": "code",
   "execution_count": null,
   "metadata": {},
   "outputs": [],
   "source": [
    "Sxx_p.T[0].shape"
   ]
  },
  {
   "cell_type": "code",
   "execution_count": null,
   "metadata": {},
   "outputs": [],
   "source": []
  }
 ],
 "metadata": {
  "kernelspec": {
   "display_name": "Python 3",
   "language": "python",
   "name": "python3"
  },
  "language_info": {
   "codemirror_mode": {
    "name": "ipython",
    "version": 3
   },
   "file_extension": ".py",
   "mimetype": "text/x-python",
   "name": "python",
   "nbconvert_exporter": "python",
   "pygments_lexer": "ipython3",
   "version": "3.7.1"
  }
 },
 "nbformat": 4,
 "nbformat_minor": 2
}
